{
  "nbformat": 4,
  "nbformat_minor": 0,
  "metadata": {
    "colab": {
      "name": "Documentação do Projeto - Fetal Health.ipynb",
      "provenance": [],
      "toc_visible": true,
      "authorship_tag": "ABX9TyPPGbGxZ45kn7crD4h7jjvf",
      "include_colab_link": true
    },
    "kernelspec": {
      "name": "python3",
      "display_name": "Python 3"
    }
  },
  "cells": [
    {
      "cell_type": "markdown",
      "metadata": {
        "id": "view-in-github",
        "colab_type": "text"
      },
      "source": [
        "<a href=\"https://colab.research.google.com/github/gabrielestacio/projetoLAIS_fase2_ia/blob/master/Documenta%C3%A7%C3%A3o_do_Projeto_Fetal_Health.ipynb\" target=\"_parent\"><img src=\"https://colab.research.google.com/assets/colab-badge.svg\" alt=\"Open In Colab\"/></a>"
      ]
    },
    {
      "cell_type": "markdown",
      "metadata": {
        "id": "sevLK92NqdFu"
      },
      "source": [
        "#**FETAL HEALTH - DOCUMENTAÇÃO**\r\n",
        "\r\n",
        "\r\n",
        "---\r\n",
        "\r\n",
        "\r\n",
        "\r\n"
      ]
    },
    {
      "cell_type": "markdown",
      "metadata": {
        "id": "9cktIwZuAew9"
      },
      "source": [
        "Olá! Essa é a documentação do projeto Fetal Health, desenvolvido por Gabriel Estácio de S. Passos para o processo seletivo de bolsistas para o projeto \"Sífilis, não!\", do LAIS.\r\n",
        "\r\n",
        "\r\n",
        "---\r\n",
        "\r\n"
      ]
    },
    {
      "cell_type": "markdown",
      "metadata": {
        "id": "MKJnJNarAaYG"
      },
      "source": [
        "# **Partes da Documentação**\r\n",
        "\r\n",
        "\r\n",
        "---\r\n",
        "\r\n",
        "\r\n",
        "[1.   Apresentação do problema](https://colab.research.google.com/drive/1yyZYx8dbw5oPXg2G3gr8Ky3XzItKscfN#scrollTo=SkQsNphyBROJ&line=6&uniqifier=1)\r\n",
        "\r\n",
        "[2.   Metodologia e abordagem](https://colab.research.google.com/drive/1yyZYx8dbw5oPXg2G3gr8Ky3XzItKscfN#scrollTo=gjLNV1fiBLFM&line=4&uniqifier=1)\r\n",
        "\r\n",
        "[3.   Códigos e tutorial do projeto](https://colab.research.google.com/drive/1yyZYx8dbw5oPXg2G3gr8Ky3XzItKscfN#scrollTo=JO1MpvBF1Jt5&line=1&uniqifier=1ttps://)\r\n",
        "\r\n",
        "\r\n"
      ]
    },
    {
      "cell_type": "markdown",
      "metadata": {
        "id": "SkQsNphyBROJ"
      },
      "source": [
        "# **Apresentação do Problema**\r\n",
        "\r\n",
        "\r\n",
        "---\r\n",
        "\r\n"
      ]
    },
    {
      "cell_type": "markdown",
      "metadata": {
        "id": "QA9oZ2HoBrZ_"
      },
      "source": [
        "O problema consiste na análise de dados do exame cardiotocogramas (CTGs) que tem por objetivo medir a frequência cardíaca fetal (FCF), movimentos fetais, contrações uterinas e outros parâmetros, a fim de prevenir a mortalidade infantil e materna. O conjunto de dados contém 2.126 registros, que foram classificados por três obstetricistas especialistas em 3 classes: Normal (1), Suspeito (2) e Patológico (3). Sendo assim, o objetivo é criar um modelo multiclasse que classifique os dados nestes três estados de saúde fetal."
      ]
    },
    {
      "cell_type": "markdown",
      "metadata": {
        "id": "gjLNV1fiBLFM"
      },
      "source": [
        "# **Metodologia e Abordagem**\r\n",
        "\r\n",
        "\r\n",
        "---\r\n",
        "\r\n"
      ]
    },
    {
      "cell_type": "markdown",
      "metadata": {
        "id": "Z8c5v3MUBsQM"
      },
      "source": [
        "Para resolver este problema, utilizaremos a linguagem de programação **Python**, na versão 3.8, com as bibliotecas **pandas**, **numpy**, **matplotlib**, **seaborn** e **scikit-learn**."
      ]
    },
    {
      "cell_type": "markdown",
      "metadata": {
        "id": "xWtjQaXC00Kd"
      },
      "source": [
        "A dinâmica escolhida para este projeto foi a regressão logística, pois esta dinâmica trabalha retornando valores entre 0 e 1, o que é bastante útil no nosso problema, onde devemos retornar valores que determinem a possibilidade de um feto estar saudável, ter suspeita de uma patologia, ou efetivamente ter uma patologia. A ideia é que, a partir dos dados de entrada, pela regressão logística, o modelo vai procurar definir uma função que determine a probabilidade do feto estar inserido em uma das três classes.\r\n",
        "\r\n",
        "Além disso, essa dinâmica é a mais comum quando trabalhamos com modelos cujas classes são discretas."
      ]
    },
    {
      "cell_type": "markdown",
      "metadata": {
        "id": "JO1MpvBF1Jt5"
      },
      "source": [
        "# **Códigos e Tutorial do Projeto**\r\n",
        "\r\n",
        "\r\n",
        "---\r\n",
        "Todos esses códigos também estão disponíveis no [repositório do GitHub](https://github.com/gabrielestacio/projetoLAIS_fase2_ia/blob/master/C%C3%B3digos/main.py//).\r\n",
        "\r\n"
      ]
    },
    {
      "cell_type": "markdown",
      "metadata": {
        "id": "Q0hwuZxIz432"
      },
      "source": [
        "**1: PRÉ-PROCESSAMENTO**\r\n",
        "\r\n",
        "Importação, análise e preparação dos dados para o treinamento e teste do modelo.\r\n",
        "\r\n",
        "\r\n",
        "---\r\n",
        "\r\n"
      ]
    },
    {
      "cell_type": "markdown",
      "metadata": {
        "id": "H4DpaOghgtXY"
      },
      "source": [
        "Inicialmente, iremos fazer o **import** das bibliotecas e módulos que usaremos nesse projeto. Serão usados métodos das bibliotecas ***pandas***, ***numpy***, ***scikit-lear (sklearn)***, ***matplotlib*** e ***seaborn***."
      ]
    },
    {
      "cell_type": "code",
      "metadata": {
        "id": "ZJW2MobmhT8a"
      },
      "source": [
        "import pandas as pd\r\n",
        "import numpy as np\r\n",
        "import matplotlib.pyplot as plt\r\n",
        "import seaborn as sns\r\n",
        "from sklearn.model_selection import train_test_split\r\n",
        "from sklearn.preprocessing import StandardScaler\r\n",
        "from sklearn.linear_model import LogisticRegression\r\n",
        "from sklearn import metrics"
      ],
      "execution_count": 1,
      "outputs": []
    },
    {
      "cell_type": "markdown",
      "metadata": {
        "id": "iR6h5tlAh-qx"
      },
      "source": [
        "O próximo passo é importar o dataset fornecido para o projeto, por meio da função ***read_csv()*** da biblioteca ***pandas***:"
      ]
    },
    {
      "cell_type": "code",
      "metadata": {
        "id": "vipFoj4diQa_"
      },
      "source": [
        "df = pd.read_csv(\"fetal_health.csv\")"
      ],
      "execution_count": 2,
      "outputs": []
    },
    {
      "cell_type": "markdown",
      "metadata": {
        "id": "D9WEFL1LiXcP"
      },
      "source": [
        "Pra que entendamos melhor do que se trata o nosso dataset, podemos fazer algumas análises sobre ele. Iniciaremos verificando algumas características do conjunto."
      ]
    },
    {
      "cell_type": "code",
      "metadata": {
        "id": "L6PcyoMNi-Sv"
      },
      "source": [
        "# imprimindo as 5 primeiras linhas do dataframe\r\n",
        "df.head()"
      ],
      "execution_count": null,
      "outputs": []
    },
    {
      "cell_type": "code",
      "metadata": {
        "id": "Ea1b3dvjjJwJ"
      },
      "source": [
        "# imprimindo o formato do dataframe (linhas x colunas)\r\n",
        "df.shape"
      ],
      "execution_count": null,
      "outputs": []
    },
    {
      "cell_type": "code",
      "metadata": {
        "id": "K-_kceMDjRx-"
      },
      "source": [
        "# imprimindo os tipos de dados contidos em cada coluna\r\n",
        "df.dtypes"
      ],
      "execution_count": null,
      "outputs": []
    },
    {
      "cell_type": "code",
      "metadata": {
        "id": "9nGX1fLBjZN8"
      },
      "source": [
        "# listando o nome de todas as colunas (atributos)\r\n",
        "list(df.columns)"
      ],
      "execution_count": null,
      "outputs": []
    },
    {
      "cell_type": "markdown",
      "metadata": {
        "id": "opQSERj2j5KD"
      },
      "source": [
        "Agora, iremos analisar se este dataset possui dados faltantes. Para isso, juntaremos as funções ***isna()***, que verifica se um elemento é nulo, e ***any()***, que retorna 'True' ou 'False' pra se a condição da função anterior foi satisfeita em cada coluna. As duas pertencem a biblioteca ***pandas***."
      ]
    },
    {
      "cell_type": "code",
      "metadata": {
        "colab": {
          "base_uri": "https://localhost:8080/"
        },
        "id": "po7NFwsgkw2Q",
        "outputId": "1026bd61-a89f-4b89-8df2-33b3bd9ed4e9"
      },
      "source": [
        "# retornando se alguma das colunas tem dados ausentes\r\n",
        "df.isna().any()"
      ],
      "execution_count": 16,
      "outputs": [
        {
          "output_type": "execute_result",
          "data": {
            "text/plain": [
              "baseline value                                            False\n",
              "accelerations                                             False\n",
              "fetal_movement                                            False\n",
              "uterine_contractions                                      False\n",
              "light_decelerations                                       False\n",
              "severe_decelerations                                      False\n",
              "prolongued_decelerations                                  False\n",
              "abnormal_short_term_variability                           False\n",
              "mean_value_of_short_term_variability                      False\n",
              "percentage_of_time_with_abnormal_long_term_variability    False\n",
              "mean_value_of_long_term_variability                       False\n",
              "histogram_width                                           False\n",
              "histogram_min                                             False\n",
              "histogram_max                                             False\n",
              "histogram_number_of_peaks                                 False\n",
              "histogram_number_of_zeroes                                False\n",
              "histogram_mode                                            False\n",
              "histogram_mean                                            False\n",
              "histogram_median                                          False\n",
              "histogram_variance                                        False\n",
              "histogram_tendency                                        False\n",
              "fetal_health                                              False\n",
              "dtype: bool"
            ]
          },
          "metadata": {
            "tags": []
          },
          "execution_count": 16
        }
      ]
    },
    {
      "cell_type": "markdown",
      "metadata": {
        "id": "fvZLvPTrlErx"
      },
      "source": [
        "Ótimo! Nosso dataframe está todo completo e não possui dados ausentes. Sendo assim, podemos passar para o próximo passo, que é verificar se temos dados duplicados através da junção das funções ***duplicated()*** e ***sum()***, da biblioteca ***pandas***."
      ]
    },
    {
      "cell_type": "code",
      "metadata": {
        "colab": {
          "base_uri": "https://localhost:8080/"
        },
        "id": "mUZ50kJpleRo",
        "outputId": "667666d9-6965-45c6-ea89-b7b7ee7bdb13"
      },
      "source": [
        "# retornando a quantidade de dados duplicados que temos em todo nosso dataset\r\n",
        "df.duplicated().sum()"
      ],
      "execution_count": 8,
      "outputs": [
        {
          "output_type": "stream",
          "text": [
            "13\n"
          ],
          "name": "stdout"
        }
      ]
    },
    {
      "cell_type": "markdown",
      "metadata": {
        "id": "hgZuzqMQl252"
      },
      "source": [
        "Descobrimos que temos alguns dados duplicados, então precisamos tratá-los. Para isso, usaremos a função ***drop_duplicates()***:"
      ]
    },
    {
      "cell_type": "code",
      "metadata": {
        "id": "pRS-G0mKmEov"
      },
      "source": [
        "# eliminando dados duplicados\r\n",
        "df.drop_duplicates(inplace=True)"
      ],
      "execution_count": 10,
      "outputs": []
    },
    {
      "cell_type": "markdown",
      "metadata": {
        "id": "jrsmLdxdmJRD"
      },
      "source": [
        "E agora, se repetirmos o código anterior, veremos que esses dados duplicados se foram."
      ]
    },
    {
      "cell_type": "code",
      "metadata": {
        "colab": {
          "base_uri": "https://localhost:8080/"
        },
        "id": "34TtboQfmPeD",
        "outputId": "4af8d1c7-2c3a-40e0-dbda-123530eb7cc8"
      },
      "source": [
        "# retornando a quantidade de dados duplicados que temos em todo nosso dataset\r\n",
        "print(df.duplicated().sum())"
      ],
      "execution_count": 11,
      "outputs": [
        {
          "output_type": "stream",
          "text": [
            "0\n"
          ],
          "name": "stdout"
        }
      ]
    },
    {
      "cell_type": "markdown",
      "metadata": {
        "id": "liXTnzFFmXq_"
      },
      "source": [
        "Como vimos na [célula de checagem de tipos](https://colab.research.google.com/drive/1yyZYx8dbw5oPXg2G3gr8Ky3XzItKscfN#scrollTo=K-_kceMDjRx-&line=2&uniqifier=1), temos apenas váriaveis numéricas, então não precisamos fazer conversões de categóricas para numéricas, concluindo a limpeza dos dados. Por segurança, exportaremos esse dataframe já limpo, para não precisarmos repetir todo o processo numa necessidade futura. Faremos isso usando a função ***to_csv()*** da biblioteca ***pandas***."
      ]
    },
    {
      "cell_type": "code",
      "metadata": {
        "id": "ltZSK9_Boc1E"
      },
      "source": [
        "# exportando o dataframe manipulado\r\n",
        "df.to_csv(\"fetal_health_manipulated.csv\", index=False)"
      ],
      "execution_count": 19,
      "outputs": []
    },
    {
      "cell_type": "markdown",
      "metadata": {
        "id": "m8LbBef3psdp"
      },
      "source": [
        "A próxima etapa do pré-processamento é verificar se temos variáveis muito correlacionadas e que podem ser unidas. Verificaremos isso fazendo um mapa de calor, usando os seguintes métodos:\r\n",
        "\r\n",
        "\r\n",
        "*   **pandas**: ***corr()***\r\n",
        "\r\n",
        "*   **numpy**: ***zeros_like()*** e ***triu_indices_from()***\r\n",
        "\r\n",
        "*   **seaborn**: ***set_context()***, ***heatmap()***, ***set_xticklabels()***, ***get_xticklabels()***, ***set_yticklabels()*** e ***get_yticklabels()***\r\n",
        "\r\n",
        "*   **matplotlib**: ***figure()***"
      ]
    },
    {
      "cell_type": "code",
      "metadata": {
        "colab": {
          "base_uri": "https://localhost:8080/",
          "height": 676
        },
        "id": "srPGy9UOsrBO",
        "outputId": "429bc1d9-dfb5-4ab3-c1f1-4f49fe7f18ae"
      },
      "source": [
        "# criando um mapa de calor que mostra a correlação entre as variáveis\r\n",
        "\r\n",
        "corr = df.corr()\r\n",
        "sns.set_context(\"notebook\", font_scale=0.8, rc={\"lines.linewidth\": 4.0})\r\n",
        "plt.figure(figsize=(13, 7))\r\n",
        "mask = np.zeros_like(corr)\r\n",
        "mask[np.triu_indices_from(mask, 1)] = True\r\n",
        "a = sns.heatmap(corr, mask=mask, annot=True, fmt='.2f')\r\n",
        "rotx = a.set_xticklabels(a.get_xticklabels(), rotation=90)\r\n",
        "roty = a.set_yticklabels(a.get_yticklabels(), rotation=30)\r\n",
        "\r\n",
        "\"\"\"\r\n",
        "Lembrando que a diagonal principal representa a correlação de uma variável\r\n",
        "consigo mesma, por isso todas as posições têm valor '1.00'\r\n",
        "\"\"\""
      ],
      "execution_count": 23,
      "outputs": [
        {
          "output_type": "display_data",
          "data": {
            "image/png": "[encoded data removed]",
            "text/plain": [
              "<Figure size 936x504 with 2 Axes>"
            ]
          },
          "metadata": {
            "tags": [],
            "needs_background": "light"
          }
        }
      ]
    },
    {
      "cell_type": "markdown",
      "metadata": {
        "id": "nBoozebFs6Nb"
      },
      "source": [
        "Como podemos perceber pelo gráfico, excetuando-se as variáveis que caracterizam o histograma, nenhum par de váriaveis tem correlação muito próxima de 1 para que possamos uni-las em uma única variável."
      ]
    },
    {
      "cell_type": "markdown",
      "metadata": {
        "id": "Kpqm-PavuiRd"
      },
      "source": [
        "Nosso próximo passo é determinar nossos conjuntos de entradas e de respostas. Utilizaremos a função ***drop()*** da biblioteca ***pandas*** para criar o conjunto de entradas. Apesar de ser uma função usada para apagar dados, nós não a utilizaremos pra modificar nosso dataframe. Na prática, iremos armazená-lo em uma outra variável, excluindo apenas nossa coluna de respostas, sem mudar o que está armazenado em '**df**'."
      ]
    },
    {
      "cell_type": "code",
      "metadata": {
        "id": "PRMF-stWvrGx"
      },
      "source": [
        "\"\"\"\r\n",
        "Armazenando as colunas que serão usadas de entrada no nosso modelo, ou seja,\r\n",
        "todas as colunas, menos a de resposta\r\n",
        "\"\"\"\r\n",
        "X = df.drop(\"fetal_health\", axis=1)"
      ],
      "execution_count": 24,
      "outputs": []
    },
    {
      "cell_type": "markdown",
      "metadata": {
        "id": "VA0sxTLYvp7I"
      },
      "source": [
        "Para o conjunto de respostas, armazenaremos em uma nova variável a coluna que \"removemos\" na linha anterior"
      ]
    },
    {
      "cell_type": "code",
      "metadata": {
        "id": "CAf0e19qwKyq"
      },
      "source": [
        "y = df.fetal_health"
      ],
      "execution_count": 25,
      "outputs": []
    },
    {
      "cell_type": "markdown",
      "metadata": {
        "id": "wQP18BdwwTHc"
      },
      "source": [
        "A penúltima etapa do pré-processamento é dividir nossos conjuntos em outros conjuntos de treinamento e de teste, através da função ***train_test_split()***, da biblioteca ***scikit-learn***. Dividiremos os conjuntos *X* e *y* na seguinte proporção: 70% para treino do modelo e 30% para teste."
      ]
    },
    {
      "cell_type": "code",
      "metadata": {
        "id": "cdSYz6NUxS-E"
      },
      "source": [
        "X_train, X_test, y_train, y_test = train_test_split(X, y, test_size=0.3, random_state=42)"
      ],
      "execution_count": 26,
      "outputs": []
    },
    {
      "cell_type": "markdown",
      "metadata": {
        "id": "eF8pv2BoxWkp"
      },
      "source": [
        "Antes de finalizarmos o pré-processamento, podemos notar que o valor mínimo e o valor máximo de algumas váriaveis de entrada são bem distintos:"
      ]
    },
    {
      "cell_type": "code",
      "metadata": {
        "colab": {
          "base_uri": "https://localhost:8080/",
          "height": 706
        },
        "id": "NXZ04EQqx5St",
        "outputId": "efb03aa7-2822-478c-bfee-6b61ad2d593b"
      },
      "source": [
        "# exibindo as 20 primeiras linhas de cada coluna\r\n",
        "df.head(20)"
      ],
      "execution_count": 27,
      "outputs": [
        {
          "output_type": "execute_result",
          "data": {
            "text/html": [
              "<div>\n",
              "<style scoped>\n",
              "    .dataframe tbody tr th:only-of-type {\n",
              "        vertical-align: middle;\n",
              "    }\n",
              "\n",
              "    .dataframe tbody tr th {\n",
              "        vertical-align: top;\n",
              "    }\n",
              "\n",
              "    .dataframe thead th {\n",
              "        text-align: right;\n",
              "    }\n",
              "</style>\n",
              "<table border=\"1\" class=\"dataframe\">\n",
              "  <thead>\n",
              "    <tr style=\"text-align: right;\">\n",
              "      <th></th>\n",
              "      <th>baseline value</th>\n",
              "      <th>accelerations</th>\n",
              "      <th>fetal_movement</th>\n",
              "      <th>uterine_contractions</th>\n",
              "      <th>light_decelerations</th>\n",
              "      <th>severe_decelerations</th>\n",
              "      <th>prolongued_decelerations</th>\n",
              "      <th>abnormal_short_term_variability</th>\n",
              "      <th>mean_value_of_short_term_variability</th>\n",
              "      <th>percentage_of_time_with_abnormal_long_term_variability</th>\n",
              "      <th>mean_value_of_long_term_variability</th>\n",
              "      <th>histogram_width</th>\n",
              "      <th>histogram_min</th>\n",
              "      <th>histogram_max</th>\n",
              "      <th>histogram_number_of_peaks</th>\n",
              "      <th>histogram_number_of_zeroes</th>\n",
              "      <th>histogram_mode</th>\n",
              "      <th>histogram_mean</th>\n",
              "      <th>histogram_median</th>\n",
              "      <th>histogram_variance</th>\n",
              "      <th>histogram_tendency</th>\n",
              "      <th>fetal_health</th>\n",
              "    </tr>\n",
              "  </thead>\n",
              "  <tbody>\n",
              "    <tr>\n",
              "      <th>0</th>\n",
              "      <td>120.0</td>\n",
              "      <td>0.000</td>\n",
              "      <td>0.000</td>\n",
              "      <td>0.000</td>\n",
              "      <td>0.000</td>\n",
              "      <td>0.0</td>\n",
              "      <td>0.000</td>\n",
              "      <td>73.0</td>\n",
              "      <td>0.5</td>\n",
              "      <td>43.0</td>\n",
              "      <td>2.4</td>\n",
              "      <td>64.0</td>\n",
              "      <td>62.0</td>\n",
              "      <td>126.0</td>\n",
              "      <td>2.0</td>\n",
              "      <td>0.0</td>\n",
              "      <td>120.0</td>\n",
              "      <td>137.0</td>\n",
              "      <td>121.0</td>\n",
              "      <td>73.0</td>\n",
              "      <td>1.0</td>\n",
              "      <td>2.0</td>\n",
              "    </tr>\n",
              "    <tr>\n",
              "      <th>1</th>\n",
              "      <td>132.0</td>\n",
              "      <td>0.006</td>\n",
              "      <td>0.000</td>\n",
              "      <td>0.006</td>\n",
              "      <td>0.003</td>\n",
              "      <td>0.0</td>\n",
              "      <td>0.000</td>\n",
              "      <td>17.0</td>\n",
              "      <td>2.1</td>\n",
              "      <td>0.0</td>\n",
              "      <td>10.4</td>\n",
              "      <td>130.0</td>\n",
              "      <td>68.0</td>\n",
              "      <td>198.0</td>\n",
              "      <td>6.0</td>\n",
              "      <td>1.0</td>\n",
              "      <td>141.0</td>\n",
              "      <td>136.0</td>\n",
              "      <td>140.0</td>\n",
              "      <td>12.0</td>\n",
              "      <td>0.0</td>\n",
              "      <td>1.0</td>\n",
              "    </tr>\n",
              "    <tr>\n",
              "      <th>2</th>\n",
              "      <td>133.0</td>\n",
              "      <td>0.003</td>\n",
              "      <td>0.000</td>\n",
              "      <td>0.008</td>\n",
              "      <td>0.003</td>\n",
              "      <td>0.0</td>\n",
              "      <td>0.000</td>\n",
              "      <td>16.0</td>\n",
              "      <td>2.1</td>\n",
              "      <td>0.0</td>\n",
              "      <td>13.4</td>\n",
              "      <td>130.0</td>\n",
              "      <td>68.0</td>\n",
              "      <td>198.0</td>\n",
              "      <td>5.0</td>\n",
              "      <td>1.0</td>\n",
              "      <td>141.0</td>\n",
              "      <td>135.0</td>\n",
              "      <td>138.0</td>\n",
              "      <td>13.0</td>\n",
              "      <td>0.0</td>\n",
              "      <td>1.0</td>\n",
              "    </tr>\n",
              "    <tr>\n",
              "      <th>3</th>\n",
              "      <td>134.0</td>\n",
              "      <td>0.003</td>\n",
              "      <td>0.000</td>\n",
              "      <td>0.008</td>\n",
              "      <td>0.003</td>\n",
              "      <td>0.0</td>\n",
              "      <td>0.000</td>\n",
              "      <td>16.0</td>\n",
              "      <td>2.4</td>\n",
              "      <td>0.0</td>\n",
              "      <td>23.0</td>\n",
              "      <td>117.0</td>\n",
              "      <td>53.0</td>\n",
              "      <td>170.0</td>\n",
              "      <td>11.0</td>\n",
              "      <td>0.0</td>\n",
              "      <td>137.0</td>\n",
              "      <td>134.0</td>\n",
              "      <td>137.0</td>\n",
              "      <td>13.0</td>\n",
              "      <td>1.0</td>\n",
              "      <td>1.0</td>\n",
              "    </tr>\n",
              "    <tr>\n",
              "      <th>4</th>\n",
              "      <td>132.0</td>\n",
              "      <td>0.007</td>\n",
              "      <td>0.000</td>\n",
              "      <td>0.008</td>\n",
              "      <td>0.000</td>\n",
              "      <td>0.0</td>\n",
              "      <td>0.000</td>\n",
              "      <td>16.0</td>\n",
              "      <td>2.4</td>\n",
              "      <td>0.0</td>\n",
              "      <td>19.9</td>\n",
              "      <td>117.0</td>\n",
              "      <td>53.0</td>\n",
              "      <td>170.0</td>\n",
              "      <td>9.0</td>\n",
              "      <td>0.0</td>\n",
              "      <td>137.0</td>\n",
              "      <td>136.0</td>\n",
              "      <td>138.0</td>\n",
              "      <td>11.0</td>\n",
              "      <td>1.0</td>\n",
              "      <td>1.0</td>\n",
              "    </tr>\n",
              "    <tr>\n",
              "      <th>5</th>\n",
              "      <td>134.0</td>\n",
              "      <td>0.001</td>\n",
              "      <td>0.000</td>\n",
              "      <td>0.010</td>\n",
              "      <td>0.009</td>\n",
              "      <td>0.0</td>\n",
              "      <td>0.002</td>\n",
              "      <td>26.0</td>\n",
              "      <td>5.9</td>\n",
              "      <td>0.0</td>\n",
              "      <td>0.0</td>\n",
              "      <td>150.0</td>\n",
              "      <td>50.0</td>\n",
              "      <td>200.0</td>\n",
              "      <td>5.0</td>\n",
              "      <td>3.0</td>\n",
              "      <td>76.0</td>\n",
              "      <td>107.0</td>\n",
              "      <td>107.0</td>\n",
              "      <td>170.0</td>\n",
              "      <td>0.0</td>\n",
              "      <td>3.0</td>\n",
              "    </tr>\n",
              "    <tr>\n",
              "      <th>6</th>\n",
              "      <td>134.0</td>\n",
              "      <td>0.001</td>\n",
              "      <td>0.000</td>\n",
              "      <td>0.013</td>\n",
              "      <td>0.008</td>\n",
              "      <td>0.0</td>\n",
              "      <td>0.003</td>\n",
              "      <td>29.0</td>\n",
              "      <td>6.3</td>\n",
              "      <td>0.0</td>\n",
              "      <td>0.0</td>\n",
              "      <td>150.0</td>\n",
              "      <td>50.0</td>\n",
              "      <td>200.0</td>\n",
              "      <td>6.0</td>\n",
              "      <td>3.0</td>\n",
              "      <td>71.0</td>\n",
              "      <td>107.0</td>\n",
              "      <td>106.0</td>\n",
              "      <td>215.0</td>\n",
              "      <td>0.0</td>\n",
              "      <td>3.0</td>\n",
              "    </tr>\n",
              "    <tr>\n",
              "      <th>7</th>\n",
              "      <td>122.0</td>\n",
              "      <td>0.000</td>\n",
              "      <td>0.000</td>\n",
              "      <td>0.000</td>\n",
              "      <td>0.000</td>\n",
              "      <td>0.0</td>\n",
              "      <td>0.000</td>\n",
              "      <td>83.0</td>\n",
              "      <td>0.5</td>\n",
              "      <td>6.0</td>\n",
              "      <td>15.6</td>\n",
              "      <td>68.0</td>\n",
              "      <td>62.0</td>\n",
              "      <td>130.0</td>\n",
              "      <td>0.0</td>\n",
              "      <td>0.0</td>\n",
              "      <td>122.0</td>\n",
              "      <td>122.0</td>\n",
              "      <td>123.0</td>\n",
              "      <td>3.0</td>\n",
              "      <td>1.0</td>\n",
              "      <td>3.0</td>\n",
              "    </tr>\n",
              "    <tr>\n",
              "      <th>8</th>\n",
              "      <td>122.0</td>\n",
              "      <td>0.000</td>\n",
              "      <td>0.000</td>\n",
              "      <td>0.002</td>\n",
              "      <td>0.000</td>\n",
              "      <td>0.0</td>\n",
              "      <td>0.000</td>\n",
              "      <td>84.0</td>\n",
              "      <td>0.5</td>\n",
              "      <td>5.0</td>\n",
              "      <td>13.6</td>\n",
              "      <td>68.0</td>\n",
              "      <td>62.0</td>\n",
              "      <td>130.0</td>\n",
              "      <td>0.0</td>\n",
              "      <td>0.0</td>\n",
              "      <td>122.0</td>\n",
              "      <td>122.0</td>\n",
              "      <td>123.0</td>\n",
              "      <td>3.0</td>\n",
              "      <td>1.0</td>\n",
              "      <td>3.0</td>\n",
              "    </tr>\n",
              "    <tr>\n",
              "      <th>9</th>\n",
              "      <td>122.0</td>\n",
              "      <td>0.000</td>\n",
              "      <td>0.000</td>\n",
              "      <td>0.003</td>\n",
              "      <td>0.000</td>\n",
              "      <td>0.0</td>\n",
              "      <td>0.000</td>\n",
              "      <td>86.0</td>\n",
              "      <td>0.3</td>\n",
              "      <td>6.0</td>\n",
              "      <td>10.6</td>\n",
              "      <td>68.0</td>\n",
              "      <td>62.0</td>\n",
              "      <td>130.0</td>\n",
              "      <td>1.0</td>\n",
              "      <td>0.0</td>\n",
              "      <td>122.0</td>\n",
              "      <td>122.0</td>\n",
              "      <td>123.0</td>\n",
              "      <td>1.0</td>\n",
              "      <td>1.0</td>\n",
              "      <td>3.0</td>\n",
              "    </tr>\n",
              "    <tr>\n",
              "      <th>10</th>\n",
              "      <td>151.0</td>\n",
              "      <td>0.000</td>\n",
              "      <td>0.000</td>\n",
              "      <td>0.001</td>\n",
              "      <td>0.001</td>\n",
              "      <td>0.0</td>\n",
              "      <td>0.000</td>\n",
              "      <td>64.0</td>\n",
              "      <td>1.9</td>\n",
              "      <td>9.0</td>\n",
              "      <td>27.6</td>\n",
              "      <td>130.0</td>\n",
              "      <td>56.0</td>\n",
              "      <td>186.0</td>\n",
              "      <td>2.0</td>\n",
              "      <td>0.0</td>\n",
              "      <td>150.0</td>\n",
              "      <td>148.0</td>\n",
              "      <td>151.0</td>\n",
              "      <td>9.0</td>\n",
              "      <td>1.0</td>\n",
              "      <td>2.0</td>\n",
              "    </tr>\n",
              "    <tr>\n",
              "      <th>11</th>\n",
              "      <td>150.0</td>\n",
              "      <td>0.000</td>\n",
              "      <td>0.000</td>\n",
              "      <td>0.001</td>\n",
              "      <td>0.001</td>\n",
              "      <td>0.0</td>\n",
              "      <td>0.000</td>\n",
              "      <td>64.0</td>\n",
              "      <td>2.0</td>\n",
              "      <td>8.0</td>\n",
              "      <td>29.5</td>\n",
              "      <td>130.0</td>\n",
              "      <td>56.0</td>\n",
              "      <td>186.0</td>\n",
              "      <td>5.0</td>\n",
              "      <td>0.0</td>\n",
              "      <td>150.0</td>\n",
              "      <td>148.0</td>\n",
              "      <td>151.0</td>\n",
              "      <td>10.0</td>\n",
              "      <td>1.0</td>\n",
              "      <td>2.0</td>\n",
              "    </tr>\n",
              "    <tr>\n",
              "      <th>12</th>\n",
              "      <td>131.0</td>\n",
              "      <td>0.005</td>\n",
              "      <td>0.072</td>\n",
              "      <td>0.008</td>\n",
              "      <td>0.003</td>\n",
              "      <td>0.0</td>\n",
              "      <td>0.000</td>\n",
              "      <td>28.0</td>\n",
              "      <td>1.4</td>\n",
              "      <td>0.0</td>\n",
              "      <td>12.9</td>\n",
              "      <td>66.0</td>\n",
              "      <td>88.0</td>\n",
              "      <td>154.0</td>\n",
              "      <td>5.0</td>\n",
              "      <td>0.0</td>\n",
              "      <td>135.0</td>\n",
              "      <td>134.0</td>\n",
              "      <td>137.0</td>\n",
              "      <td>7.0</td>\n",
              "      <td>1.0</td>\n",
              "      <td>1.0</td>\n",
              "    </tr>\n",
              "    <tr>\n",
              "      <th>13</th>\n",
              "      <td>131.0</td>\n",
              "      <td>0.009</td>\n",
              "      <td>0.222</td>\n",
              "      <td>0.006</td>\n",
              "      <td>0.002</td>\n",
              "      <td>0.0</td>\n",
              "      <td>0.000</td>\n",
              "      <td>28.0</td>\n",
              "      <td>1.5</td>\n",
              "      <td>0.0</td>\n",
              "      <td>5.4</td>\n",
              "      <td>87.0</td>\n",
              "      <td>71.0</td>\n",
              "      <td>158.0</td>\n",
              "      <td>2.0</td>\n",
              "      <td>0.0</td>\n",
              "      <td>141.0</td>\n",
              "      <td>137.0</td>\n",
              "      <td>141.0</td>\n",
              "      <td>10.0</td>\n",
              "      <td>1.0</td>\n",
              "      <td>1.0</td>\n",
              "    </tr>\n",
              "    <tr>\n",
              "      <th>14</th>\n",
              "      <td>130.0</td>\n",
              "      <td>0.006</td>\n",
              "      <td>0.408</td>\n",
              "      <td>0.004</td>\n",
              "      <td>0.005</td>\n",
              "      <td>0.0</td>\n",
              "      <td>0.001</td>\n",
              "      <td>21.0</td>\n",
              "      <td>2.3</td>\n",
              "      <td>0.0</td>\n",
              "      <td>7.9</td>\n",
              "      <td>107.0</td>\n",
              "      <td>67.0</td>\n",
              "      <td>174.0</td>\n",
              "      <td>7.0</td>\n",
              "      <td>0.0</td>\n",
              "      <td>143.0</td>\n",
              "      <td>125.0</td>\n",
              "      <td>135.0</td>\n",
              "      <td>76.0</td>\n",
              "      <td>0.0</td>\n",
              "      <td>1.0</td>\n",
              "    </tr>\n",
              "    <tr>\n",
              "      <th>15</th>\n",
              "      <td>130.0</td>\n",
              "      <td>0.006</td>\n",
              "      <td>0.380</td>\n",
              "      <td>0.004</td>\n",
              "      <td>0.004</td>\n",
              "      <td>0.0</td>\n",
              "      <td>0.001</td>\n",
              "      <td>19.0</td>\n",
              "      <td>2.3</td>\n",
              "      <td>0.0</td>\n",
              "      <td>8.7</td>\n",
              "      <td>107.0</td>\n",
              "      <td>67.0</td>\n",
              "      <td>174.0</td>\n",
              "      <td>3.0</td>\n",
              "      <td>0.0</td>\n",
              "      <td>134.0</td>\n",
              "      <td>127.0</td>\n",
              "      <td>133.0</td>\n",
              "      <td>43.0</td>\n",
              "      <td>0.0</td>\n",
              "      <td>1.0</td>\n",
              "    </tr>\n",
              "    <tr>\n",
              "      <th>16</th>\n",
              "      <td>130.0</td>\n",
              "      <td>0.006</td>\n",
              "      <td>0.441</td>\n",
              "      <td>0.005</td>\n",
              "      <td>0.005</td>\n",
              "      <td>0.0</td>\n",
              "      <td>0.000</td>\n",
              "      <td>24.0</td>\n",
              "      <td>2.1</td>\n",
              "      <td>0.0</td>\n",
              "      <td>10.9</td>\n",
              "      <td>125.0</td>\n",
              "      <td>53.0</td>\n",
              "      <td>178.0</td>\n",
              "      <td>5.0</td>\n",
              "      <td>0.0</td>\n",
              "      <td>143.0</td>\n",
              "      <td>128.0</td>\n",
              "      <td>138.0</td>\n",
              "      <td>70.0</td>\n",
              "      <td>1.0</td>\n",
              "      <td>1.0</td>\n",
              "    </tr>\n",
              "    <tr>\n",
              "      <th>17</th>\n",
              "      <td>131.0</td>\n",
              "      <td>0.002</td>\n",
              "      <td>0.383</td>\n",
              "      <td>0.003</td>\n",
              "      <td>0.005</td>\n",
              "      <td>0.0</td>\n",
              "      <td>0.002</td>\n",
              "      <td>18.0</td>\n",
              "      <td>2.4</td>\n",
              "      <td>0.0</td>\n",
              "      <td>13.9</td>\n",
              "      <td>107.0</td>\n",
              "      <td>67.0</td>\n",
              "      <td>174.0</td>\n",
              "      <td>5.0</td>\n",
              "      <td>0.0</td>\n",
              "      <td>134.0</td>\n",
              "      <td>125.0</td>\n",
              "      <td>132.0</td>\n",
              "      <td>45.0</td>\n",
              "      <td>0.0</td>\n",
              "      <td>2.0</td>\n",
              "    </tr>\n",
              "    <tr>\n",
              "      <th>18</th>\n",
              "      <td>130.0</td>\n",
              "      <td>0.003</td>\n",
              "      <td>0.451</td>\n",
              "      <td>0.006</td>\n",
              "      <td>0.004</td>\n",
              "      <td>0.0</td>\n",
              "      <td>0.001</td>\n",
              "      <td>23.0</td>\n",
              "      <td>1.9</td>\n",
              "      <td>0.0</td>\n",
              "      <td>8.8</td>\n",
              "      <td>99.0</td>\n",
              "      <td>59.0</td>\n",
              "      <td>158.0</td>\n",
              "      <td>6.0</td>\n",
              "      <td>0.0</td>\n",
              "      <td>133.0</td>\n",
              "      <td>124.0</td>\n",
              "      <td>129.0</td>\n",
              "      <td>36.0</td>\n",
              "      <td>1.0</td>\n",
              "      <td>1.0</td>\n",
              "    </tr>\n",
              "    <tr>\n",
              "      <th>19</th>\n",
              "      <td>130.0</td>\n",
              "      <td>0.005</td>\n",
              "      <td>0.469</td>\n",
              "      <td>0.005</td>\n",
              "      <td>0.004</td>\n",
              "      <td>0.0</td>\n",
              "      <td>0.001</td>\n",
              "      <td>29.0</td>\n",
              "      <td>1.7</td>\n",
              "      <td>0.0</td>\n",
              "      <td>7.8</td>\n",
              "      <td>112.0</td>\n",
              "      <td>65.0</td>\n",
              "      <td>177.0</td>\n",
              "      <td>6.0</td>\n",
              "      <td>1.0</td>\n",
              "      <td>133.0</td>\n",
              "      <td>129.0</td>\n",
              "      <td>133.0</td>\n",
              "      <td>27.0</td>\n",
              "      <td>0.0</td>\n",
              "      <td>1.0</td>\n",
              "    </tr>\n",
              "  </tbody>\n",
              "</table>\n",
              "</div>"
            ],
            "text/plain": [
              "    baseline value  accelerations  ...  histogram_tendency  fetal_health\n",
              "0            120.0          0.000  ...                 1.0           2.0\n",
              "1            132.0          0.006  ...                 0.0           1.0\n",
              "2            133.0          0.003  ...                 0.0           1.0\n",
              "3            134.0          0.003  ...                 1.0           1.0\n",
              "4            132.0          0.007  ...                 1.0           1.0\n",
              "5            134.0          0.001  ...                 0.0           3.0\n",
              "6            134.0          0.001  ...                 0.0           3.0\n",
              "7            122.0          0.000  ...                 1.0           3.0\n",
              "8            122.0          0.000  ...                 1.0           3.0\n",
              "9            122.0          0.000  ...                 1.0           3.0\n",
              "10           151.0          0.000  ...                 1.0           2.0\n",
              "11           150.0          0.000  ...                 1.0           2.0\n",
              "12           131.0          0.005  ...                 1.0           1.0\n",
              "13           131.0          0.009  ...                 1.0           1.0\n",
              "14           130.0          0.006  ...                 0.0           1.0\n",
              "15           130.0          0.006  ...                 0.0           1.0\n",
              "16           130.0          0.006  ...                 1.0           1.0\n",
              "17           131.0          0.002  ...                 0.0           2.0\n",
              "18           130.0          0.003  ...                 1.0           1.0\n",
              "19           130.0          0.005  ...                 0.0           1.0\n",
              "\n",
              "[20 rows x 22 columns]"
            ]
          },
          "metadata": {
            "tags": []
          },
          "execution_count": 27
        }
      ]
    },
    {
      "cell_type": "markdown",
      "metadata": {
        "id": "uJHaWlcfyF5t"
      },
      "source": [
        "Váriaveis como **fetal_movement**, **abnormal_short_term_variability** e **mean_value_of_short_term_variability** tem valores bem distintos. Pra resolvermos isso, vamos normalizar nossos dados utilizando as funções ***StandardScaler()***, ***fit_transform()*** e ***transform()*** da biblioteca ***scikit-learn***."
      ]
    },
    {
      "cell_type": "code",
      "metadata": {
        "id": "lXnX-9W-zEJD"
      },
      "source": [
        "# normalizando os dados\r\n",
        "sc_X = StandardScaler()\r\n",
        "X_train = sc_X.fit_transform(X_train)\r\n",
        "X_test = sc_X.transform(X_test)"
      ],
      "execution_count": 31,
      "outputs": []
    },
    {
      "cell_type": "markdown",
      "metadata": {
        "id": "iI5MYgChzmqX"
      },
      "source": [
        "Após esse passo, terminamos o pré-processamento. Agora, iremos iniciar o treinamento do nosso modelo."
      ]
    },
    {
      "cell_type": "markdown",
      "metadata": {
        "id": "a77Ho6hSzxPE"
      },
      "source": [
        "**2: TREINAMENTO E TESTE DO MODELO**\r\n",
        "\r\n",
        "Aplicação da dinâmica de treinamento para aprimoramento do modelo.\r\n",
        "\r\n",
        "\r\n",
        "---\r\n",
        "\r\n"
      ]
    },
    {
      "cell_type": "markdown",
      "metadata": {
        "id": "LSctepQk1C6f"
      },
      "source": [
        "Para o treinamento do nosso modelo, utilizaremos a função ***ravel()*** da biblioteca ***numpy***, e as funções ***LogisticRegression()***, ***fit()*** e ***predict()***, da biblioteca ***scikit-learn***."
      ]
    },
    {
      "cell_type": "code",
      "metadata": {
        "colab": {
          "base_uri": "https://localhost:8080/"
        },
        "id": "bDn7QSOe1hYE",
        "outputId": "abbaff61-cc0f-4bfa-c63d-a462d837e12c"
      },
      "source": [
        "# fazendo o treinamento por regressão logística e armazenando o resultado das predições em uma nova variável\r\n",
        "logit = LogisticRegression(verbose=1, max_iter=1000)\r\n",
        "logit.fit(X_train, np.ravel(y_train, order='C'))\r\n",
        "y_pred = logit.predict(X_test)"
      ],
      "execution_count": 32,
      "outputs": [
        {
          "output_type": "stream",
          "text": [
            "[Parallel(n_jobs=1)]: Using backend SequentialBackend with 1 concurrent workers.\n",
            "[Parallel(n_jobs=1)]: Done   1 out of   1 | elapsed:    0.1s finished\n"
          ],
          "name": "stderr"
        }
      ]
    },
    {
      "cell_type": "markdown",
      "metadata": {
        "id": "QlJACCC11tlS"
      },
      "source": [
        "Finalizado o treinamento do nosso modelo, podemos prosseguir para a última etapa: a apresentação das métricas e verificação da eficácia do modelo."
      ]
    },
    {
      "cell_type": "markdown",
      "metadata": {
        "id": "wpcohpbG2HIG"
      },
      "source": [
        "**3: MÉTRICAS**\r\n",
        "\r\n",
        "Apresentação das estatísticas relacionadas ao treinamento e avaliação do modelo."
      ]
    },
    {
      "cell_type": "markdown",
      "metadata": {
        "id": "pU2fXVi22aFr"
      },
      "source": [
        "Iniciaremos verificando a acurácia do nosso modelo através da função ***accuracy_score()***, do módulo ***metrics*** da biblioteca ***scikit-learn***."
      ]
    },
    {
      "cell_type": "code",
      "metadata": {
        "colab": {
          "base_uri": "https://localhost:8080/"
        },
        "id": "gW3WozUW21sE",
        "outputId": "b622b8ba-dc3a-4428-b605-dd90bff19182"
      },
      "source": [
        "# imprimindo o índice de acurácia do modelo\r\n",
        "print(f'Acurácia:\\n{metrics.accuracy_score(y_test, y_pred)}')"
      ],
      "execution_count": 33,
      "outputs": [
        {
          "output_type": "stream",
          "text": [
            "Acurácia:\n",
            "0.9132492113564669\n"
          ],
          "name": "stdout"
        }
      ]
    },
    {
      "cell_type": "markdown",
      "metadata": {
        "id": "6npLsW2N2-Fx"
      },
      "source": [
        "Nosso modelo obteve uma acurácia de, aproximadamente, 91.3%. Vamos verificar como isso se traduziu nas classes 1 (normal), 2 (suspeito) e 3 (patológico), através de um relatório de classificação. Para isso, utilizaremos a função ***classification_report()***, também do módulo ***metrics*** da biblioteca ***scikit-learn***."
      ]
    },
    {
      "cell_type": "code",
      "metadata": {
        "colab": {
          "base_uri": "https://localhost:8080/"
        },
        "id": "etyDJlkD3tEp",
        "outputId": "bdf80da2-d60f-40aa-b1fc-cb35c226e99c"
      },
      "source": [
        "# imprimindo o relatório de classificação do modelo, que apresenta estatísticas do comportamento do modelo\r\n",
        "print(f\"Relatório de classificação:\\n{metrics.classification_report(y_test, y_pred, target_names=['1', '2', '3'])}\")"
      ],
      "execution_count": 35,
      "outputs": [
        {
          "output_type": "stream",
          "text": [
            "Relatório de classificação:\n",
            "              precision    recall  f1-score   support\n",
            "\n",
            "           1       0.94      0.97      0.96       497\n",
            "           2       0.77      0.64      0.70        90\n",
            "           3       0.81      0.81      0.81        47\n",
            "\n",
            "    accuracy                           0.91       634\n",
            "   macro avg       0.84      0.81      0.82       634\n",
            "weighted avg       0.91      0.91      0.91       634\n",
            "\n"
          ],
          "name": "stdout"
        }
      ]
    },
    {
      "cell_type": "markdown",
      "metadata": {
        "id": "nz9QkYpD3yRT"
      },
      "source": [
        "Podemos observar, através das colunas 'precision' e 'recall' que, para as classes 1 e 3, o modelo se comportou bem e teve um alto índice de acertos, contribuindo para o f1_score alto. Já a classe 2, não teve um desempenho muito bom, principalmente na parte do recall, ou seja, classificando muitos dados que pertenciam a classe 2 como pertencentes a outra classe. Isso fica claro se criarmos uma matriz de confusão. Para isso, utilizaremos a função ***confusion_matrix()***, também do módulo ***metrics*** da biblioteca ***scikit-learn***."
      ]
    },
    {
      "cell_type": "code",
      "metadata": {
        "colab": {
          "base_uri": "https://localhost:8080/"
        },
        "id": "sCLzSbqy5vIH",
        "outputId": "18bdd594-60bb-4feb-ead1-e5a0e39420bd"
      },
      "source": [
        "\"\"\"\r\n",
        "Imprimindo matriz de confusão. Apresenta, em formato de matriz o número de\r\n",
        "acertos e erros para cada classe, indicando a qual classe o modelo atribuiu\r\n",
        "o dado erronamente e quantas vezes ele repetiu esse erro.\r\n",
        "\"\"\"\r\n",
        "cnf_matrix = metrics.confusion_matrix(y_test, y_pred)\r\n",
        "print(f'Matriz de confusão:\\n{cnf_matrix}')"
      ],
      "execution_count": 36,
      "outputs": [
        {
          "output_type": "stream",
          "text": [
            "Matriz de confusão:\n",
            "[[483  11   3]\n",
            " [ 26  58   6]\n",
            " [  3   6  38]]\n"
          ],
          "name": "stdout"
        }
      ]
    },
    {
      "cell_type": "markdown",
      "metadata": {
        "id": "3HcUVdIQ9Ib2"
      },
      "source": [
        "**4: UM PROBLEMA NÃO IMPLEMENTADO**\r\n",
        "\r\n",
        "Desbalanceamento das classes e porque é mais vantajoso mantê-las assim."
      ]
    },
    {
      "cell_type": "markdown",
      "metadata": {
        "id": "yujpV0LO7adR"
      },
      "source": [
        "A matriz de confusão mostra que mais de um terço dos dados da segunda classe foi para atribuído erroneamente a uma outra classe que não a 2. Isto, aliado com a coluna support do relatório de classificação (que mostra quantos dados de cada classe foram processados) indica um desbalanceamento das classes. Podemos verificar isso pela função ***value_counts()*** da biblioteca ***pandas***:"
      ]
    },
    {
      "cell_type": "code",
      "metadata": {
        "colab": {
          "base_uri": "https://localhost:8080/"
        },
        "id": "PBnERlGf8Dsz",
        "outputId": "f0fa4f21-51fa-484c-874c-ed24f288d24c"
      },
      "source": [
        "df['fetal_health'].value_counts()"
      ],
      "execution_count": 37,
      "outputs": [
        {
          "output_type": "execute_result",
          "data": {
            "text/plain": [
              "1.0    1646\n",
              "2.0     292\n",
              "3.0     175\n",
              "Name: fetal_health, dtype: int64"
            ]
          },
          "metadata": {
            "tags": []
          },
          "execution_count": 37
        }
      ]
    },
    {
      "cell_type": "markdown",
      "metadata": {
        "id": "C1Svs1IL8I5N"
      },
      "source": [
        "Como podemos ver, há uma quantidade bem maior de dados na classe 1 do que nas classes 2 e 3."
      ]
    },
    {
      "cell_type": "markdown",
      "metadata": {
        "id": "Ixgvw1et8VpY"
      },
      "source": [
        "Existem duas formas de resolvermos esse desbalanceamento:\r\n",
        "\r\n",
        "\r\n",
        "1.   **Oversampling**: replicamos, aleatoriamente, os dados das classes minoritárias até igualarmos a quantidade de dados da classe majoritária;\r\n",
        "2.   **Undersampling**: descartamos, aleatoriamente, os dados das classes majoritárias até igualarmos a quantidade de dados da classe minoritária.\r\n",
        "\r\n"
      ]
    },
    {
      "cell_type": "markdown",
      "metadata": {
        "id": "Hb6KnHwW9Zl3"
      },
      "source": [
        "Porém, como a classe majoritária 1 é muito maior que a classe minoritária 3, os dados seriam de 3 seriam replicados quase dez vezes para compensar a diferença para a classe 1. Isso poderia acarretar em *overfitting*, fazendo com que nosso modelo se adaptasse muito bem ao processo de treinamento, mas respondesse muito mal à possíveis novas entradas. Por conta disso, o processo de *oversampling* foi descartado."
      ]
    },
    {
      "cell_type": "markdown",
      "metadata": {
        "id": "hpIkzv42-KRU"
      },
      "source": [
        "O mesmo princípio se aplica ao *undersampling*: como a classe minoritária 3 é muito menor que a classe majoritária 1, descartaríamos muitos dados e teríamos conjuntos de treinamento e testes muito pequenos, com menos de 200 dados, o que prejudicaria o aprendizado do modelo. Por isso, o *undersampling* também foi descartado."
      ]
    },
    {
      "cell_type": "markdown",
      "metadata": {
        "id": "1zoJGKnd-sNA"
      },
      "source": [
        "Outro ponto que influencia na opção de manter a quantidade de entradas de cada classe desbalanceada é o fato da classe prejudicada ser a classe 2 (suspeito), onde ainda não há uma confirmação final sobre o estado de saúde do feto."
      ]
    },
    {
      "cell_type": "markdown",
      "metadata": {
        "id": "Bu3McS21_Q4F"
      },
      "source": [
        "Sendo assim, completamos o nosso projeto e atingimos a resolução do problema com um modelo com uma boa avaliação."
      ]
    }
  ]
}