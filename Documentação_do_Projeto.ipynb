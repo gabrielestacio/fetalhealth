{
  "nbformat": 4,
  "nbformat_minor": 0,
  "metadata": {
    "colab": {
      "name": "Documentação do Projeto.ipynb",
      "provenance": [],
      "authorship_tag": "ABX9TyPTPUmNHlwduG+KkoIm5NcS",
      "include_colab_link": true
    },
    "kernelspec": {
      "name": "python3",
      "display_name": "Python 3"
    }
  },
  "cells": [
    {
      "cell_type": "markdown",
      "metadata": {
        "id": "view-in-github",
        "colab_type": "text"
      },
      "source": [
        "<a href=\"https://colab.research.google.com/github/gabrielestacio/projetoLAIS_fase2_ia/blob/master/Documenta%C3%A7%C3%A3o_do_Projeto.ipynb\" target=\"_parent\"><img src=\"https://colab.research.google.com/assets/colab-badge.svg\" alt=\"Open In Colab\"/></a>"
      ]
    },
    {
      "cell_type": "markdown",
      "metadata": {
        "id": "sevLK92NqdFu"
      },
      "source": [
        "#**NOME DO PROJETO**\r\n",
        "Projeto desenvolvido por Gabriel Estácio de S. Passos para o processo seletivo de bolsistas para o projeto \"Sífilis, não!\", do LAIS.\r\n",
        "\r\n",
        "---\r\n",
        "\r\n",
        "\r\n",
        "\r\n"
      ]
    },
    {
      "cell_type": "markdown",
      "metadata": {
        "id": "3tblVlHmrApT"
      },
      "source": [
        "[Repositório do projeto no GitHub](https://github.com/gabrielestacio/projetoLAIS_fase2_ia.git)"
      ]
    },
    {
      "cell_type": "markdown",
      "metadata": {
        "id": "T4WlVDnE0_tR"
      },
      "source": [
        "# **Documentação**\r\n",
        "\r\n",
        "\r\n",
        "---\r\n",
        "\r\n"
      ]
    },
    {
      "cell_type": "markdown",
      "metadata": {
        "id": "JO1MpvBF1Jt5"
      },
      "source": [
        "# **Código do Projeto**\r\n",
        "\r\n",
        "\r\n",
        "---\r\n",
        "Todos os códigos estão disponíveis no repositório do GitHub, dentro desta seção neste notebook e no notebook de documentação do projeto.\r\n",
        "\r\n"
      ]
    }
  ]
}